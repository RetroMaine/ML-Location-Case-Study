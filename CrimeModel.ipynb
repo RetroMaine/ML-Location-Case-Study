{
 "cells": [
  {
   "cell_type": "code",
   "execution_count": null,
   "metadata": {},
   "outputs": [],
   "source": [
    "# 1. Import Libraries and Load the Data\n",
    "\n",
    "# data manipulation\n",
    "#!pip install \"numpy<2\"\n",
    "\n",
    "import pandas as pd\n",
    "import numpy as np\n",
    "import os\n",
    "import warnings\n",
    "import matplotlib.pyplot as plt\n",
    "warnings.filterwarnings('ignore')\n",
    "\n",
    "# Model-specific imports\n",
    "from sklearn.model_selection import train_test_split\n",
    "from sklearn.ensemble import RandomForestRegressor\n",
    "from sklearn.metrics import mean_squared_error, r2_score\n",
    "\n",
    "# import statsmodels.api as sm\n",
    "\n",
    "# get out dataset \n",
    "filename = os.path.join(os.getcwd(), 'Credit_Card_Dataset.csv')\n",
    "Credit_Cust = pd.read_csv(filename)\n",
    "\n",
    "# Show the first few rows\n",
    "print(Credit_Cust.head())\n",
    "\n"
   ]
  },
  {
   "cell_type": "code",
   "execution_count": null,
   "metadata": {},
   "outputs": [],
   "source": [
    "# 2. Data Exploration and Cleaning\n",
    "\n",
    "#converting string null values to numpy NaN values\n",
    "Credit_Data=Credit_Cust.replace(r'^#NULL!$', np.NaN, regex=True)\n",
    "\n",
    "\n",
    "# find missing values\n",
    "Credit_Data[Credit_Data.isna().any(axis=1)]\n",
    "\n",
    "# drop missing values\n",
    "Credit_Data2=Credit_Data.dropna()\n",
    "\n",
    "# no rows with missing values now\n",
    "Credit_Data2[Credit_Data2.isna().any(axis=1)]\n",
    "\n",
    "# dropping irrelevant columns\n",
    "\n",
    "Credit_Data2=Credit_Data2.drop(columns=[\"Random_numbers\",\"Attrition_Flag\",\"CLIENTNUM\"])\n",
    "\n",
    "\n",
    "\n",
    "#checking for duplicate values\n",
    "print(\"No of duplicate rows= \",Credit_Data2.duplicated().sum())\n",
    "Credit_Data2[Credit_Data2.duplicated()]\n",
    "\n",
    "Credit_Data2.drop_duplicates(inplace=True)\n",
    "print(\"No. of rows after duplicates were dropped= \",Credit_Data2.duplicated().sum())\n",
    "\n",
    "display(Credit_Data2)\n",
    "Credit_Data2.shape"
   ]
  },
  {
   "cell_type": "code",
   "execution_count": null,
   "metadata": {},
   "outputs": [],
   "source": [
    "# 3. Data Analysis\n",
    "\n",
    "# Datatyes of the all the variables are checked and are correct\n",
    "\n",
    "Credit_Data2.info()\n",
    "\n",
    "Customer_Age=Credit_Data2['Customer_Age']\n",
    "Gender=Credit_Data2['Gender_male']\n",
    "Dependent_count=Credit_Data2['Dependent_count']\n",
    "Secondary_Education_Level=Credit_Data2['Education_Level_secondary']\n",
    "ThirdLvl_Education_Level=Credit_Data2['Education_Level_third level']\n",
    "Marital_Status=Credit_Data2['Marital_Status_divorced']\n",
    "# Income_Category=Credit_Data2['Income_Category']\n",
    "# Card_Category=Credit_Data2['Card_Category']\n",
    "# Months_on_book=Credit_Data2['Months_on_book']\n",
    "# Credit_Limit=Credit_Data2['Credit_Limit']\n",
    "# Avg_Utilization_Ratio=Credit_Data2['Avg_Utilization_Ratio']\n",
    "# Pay_on_time=Credit_Data2['Pay_on_time']"
   ]
  }
 ],
 "metadata": {
  "language_info": {
   "name": "python"
  }
 },
 "nbformat": 4,
 "nbformat_minor": 2
}
