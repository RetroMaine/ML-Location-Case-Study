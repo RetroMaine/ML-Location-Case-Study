{
 "cells": [
  {
   "cell_type": "code",
   "execution_count": 26,
   "id": "b9dd132d-dc76-4acf-beb2-802fdf712fe4",
   "metadata": {},
   "outputs": [
    {
     "name": "stdout",
     "output_type": "stream",
     "text": [
      "Requirement already satisfied: xgboost in /Library/Frameworks/Python.framework/Versions/3.11/lib/python3.11/site-packages (3.0.0)\n",
      "Requirement already satisfied: scikit-learn in /Library/Frameworks/Python.framework/Versions/3.11/lib/python3.11/site-packages (1.6.1)\n",
      "Requirement already satisfied: pandas in /Library/Frameworks/Python.framework/Versions/3.11/lib/python3.11/site-packages (2.2.3)\n",
      "Requirement already satisfied: joblib in /Library/Frameworks/Python.framework/Versions/3.11/lib/python3.11/site-packages (1.4.2)\n",
      "Requirement already satisfied: numpy in /Library/Frameworks/Python.framework/Versions/3.11/lib/python3.11/site-packages (from xgboost) (1.23.5)\n",
      "Requirement already satisfied: scipy in /Library/Frameworks/Python.framework/Versions/3.11/lib/python3.11/site-packages (from xgboost) (1.15.2)\n",
      "Requirement already satisfied: threadpoolctl>=3.1.0 in /Library/Frameworks/Python.framework/Versions/3.11/lib/python3.11/site-packages (from scikit-learn) (3.6.0)\n",
      "Requirement already satisfied: python-dateutil>=2.8.2 in /Library/Frameworks/Python.framework/Versions/3.11/lib/python3.11/site-packages (from pandas) (2.9.0.post0)\n",
      "Requirement already satisfied: pytz>=2020.1 in /Library/Frameworks/Python.framework/Versions/3.11/lib/python3.11/site-packages (from pandas) (2024.1)\n",
      "Requirement already satisfied: tzdata>=2022.7 in /Library/Frameworks/Python.framework/Versions/3.11/lib/python3.11/site-packages (from pandas) (2024.1)\n",
      "Requirement already satisfied: six>=1.5 in /Library/Frameworks/Python.framework/Versions/3.11/lib/python3.11/site-packages (from python-dateutil>=2.8.2->pandas) (1.16.0)\n",
      "Note: you may need to restart the kernel to use updated packages.\n"
     ]
    }
   ],
   "source": [
    "pip install xgboost scikit-learn pandas joblib"
   ]
  },
  {
   "cell_type": "code",
   "execution_count": 65,
   "id": "9ddf1f4c-a172-4a11-b47a-bf8fbc760090",
   "metadata": {},
   "outputs": [
    {
     "name": "stdout",
     "output_type": "stream",
     "text": [
      "successful run the prediction cell.\n"
     ]
    }
   ],
   "source": [
    "import pandas as pd\n",
    "from sklearn.compose import ColumnTransformer\n",
    "from sklearn.preprocessing import OneHotEncoder\n",
    "from sklearn.model_selection import train_test_split\n",
    "from xgboost import XGBRegressor\n",
    "import joblib\n",
    "\n",
    "# Load crime data\n",
    "crime_df = pd.read_csv(\"archive-1/crime_60_100.csv\")\n",
    "\n",
    "# Ensure the state column is named 'states' and uses full names\n",
    "# Clean numeric columns\n",
    "numeric_cols = ['violent_crime', 'murder', 'rape', 'robbery', 'population']\n",
    "for col in numeric_cols:\n",
    "    crime_df[col] = crime_df[col].astype(str).str.replace(',', '')\n",
    "    crime_df[col] = pd.to_numeric(crime_df[col], errors='coerce')\n",
    "crime_df = crime_df.dropna(subset=numeric_cols)\n",
    "\n",
    "# Check if 'violent_crime' is a total to avoid double-counting\n",
    "# Assuming 'violent_crime' is the total, use only that for crime rate\n",
    "crime_df['crime_rate'] = (crime_df['violent_crime'] / crime_df['population']) * 1000\n",
    "\n",
    "# State mapping\n",
    "state_abbr_to_name = {\n",
    "    'AL': 'Alabama', 'AK': 'Alaska', 'AZ': 'Arizona', 'AR': 'Arkansas',\n",
    "    'CA': 'California', 'CO': 'Colorado', 'CT': 'Connecticut', 'DE': 'Delaware',\n",
    "    'FL': 'Florida', 'GA': 'Georgia', 'HI': 'Hawaii', 'ID': 'Idaho',\n",
    "    'IL': 'Illinois', 'IN': 'Indiana', 'IA': 'Iowa', 'KS': 'Kansas',\n",
    "    'KY': 'Kentucky', 'LA': 'Louisiana', 'ME': 'Maine', 'MD': 'Maryland',\n",
    "    'MA': 'Massachusetts', 'MI': 'Michigan', 'MN': 'Minnesota', 'MS': 'Mississippi',\n",
    "    'MO': 'Missouri', 'MT': 'Montana', 'NE': 'Nebraska', 'NV': 'Nevada',\n",
    "    'NH': 'New Hampshire', 'NJ': 'New Jersey', 'NM': 'New Mexico', 'NY': 'New York',\n",
    "    'NC': 'North Carolina', 'ND': 'North Dakota', 'OH': 'Ohio', 'OK': 'Oklahoma',\n",
    "    'OR': 'Oregon', 'PA': 'Pennsylvania', 'RI': 'Rhode Island', 'SC': 'South Carolina',\n",
    "    'SD': 'South Dakota', 'TN': 'Tennessee', 'TX': 'Texas', 'UT': 'Utah', 'VT': 'Vermont',\n",
    "    'VA': 'Virginia', 'WA': 'Washington', 'WV': 'West Virginia', 'WI': 'Wisconsin',\n",
    "    'WY': 'Wyoming'\n",
    "}\n",
    "\n",
    "\n",
    "# Load ZIP data\n",
    "zips = pd.read_csv(\"uszips.csv\")[['zip', 'state_id', 'population']]\n",
    "zips = zips.rename(columns={'zip': 'zip_code', 'state_id': 'state_abbr'})\n",
    "zips['state_name'] = zips['state_abbr'].map(state_abbr_to_name)\n",
    "\n",
    "merged = zips.merge(\n",
    "    crime_df.rename(columns={'population': 'state_population'}),  # Rename conflict column\n",
    "    left_on='state_name', \n",
    "    right_on='states', \n",
    "    how='left'\n",
    ")\n",
    "\n",
    "# Handle missing crime data using state average\n",
    "state_avg = merged.groupby('state_abbr')['crime_rate'].transform('mean')\n",
    "merged['crime_rate'] = merged['crime_rate'].fillna(state_avg)\n",
    "\n",
    "# If no state average available, fall back to national average\n",
    "merged['crime_rate'] = merged['crime_rate'].fillna(merged['crime_rate'].mean())\n",
    "\n",
    "# Feature engineering - use ZIP's population (now called 'population' from zips DataFrame)\n",
    "X = merged[['state_abbr', 'population']]  # Now correctly references zips population\n",
    "y = merged['crime_rate']\n",
    "# Preprocessing\n",
    "preprocessor = ColumnTransformer([\n",
    "    ('state', OneHotEncoder(handle_unknown='ignore'), ['state_abbr'])\n",
    "], remainder='passthrough')\n",
    "\n",
    "X_processed = preprocessor.fit_transform(X)\n",
    "\n",
    "# Train model\n",
    "model = XGBRegressor(n_estimators=100, max_depth=3, random_state=42)\n",
    "model.fit(X_processed, y)\n",
    "\n",
    "# Save artifacts\n",
    "joblib.dump(model, 'crime_model.pkl')\n",
    "joblib.dump(preprocessor, 'crime_preprocessor.pkl')  # Uncommented line\n",
    "\n",
    "print(\"successful run the prediction cell.\")"
   ]
  },
  {
   "cell_type": "code",
   "execution_count": 63,
   "id": "ff81ca72-0a1c-4e31-8b55-5f865e772ef4",
   "metadata": {},
   "outputs": [
    {
     "name": "stdout",
     "output_type": "stream",
     "text": [
      "ZIP 75105 crime rate: 4.80 per 1000\n"
     ]
    },
    {
     "data": {
      "text/plain": [
       "4.8034096"
      ]
     },
     "execution_count": 63,
     "metadata": {},
     "output_type": "execute_result"
    }
   ],
   "source": [
    "def predict_crime_rate(zip_code):\n",
    "    try:\n",
    "        model = joblib.load('crime_model.pkl')\n",
    "        preprocessor = joblib.load('crime_preprocessor.pkl')\n",
    "        zip_data = zips[zips['zip_code'] == int(zip_code)].iloc[0]\n",
    "        \n",
    "        input_data = pd.DataFrame([{\n",
    "            'state_abbr': zip_data['state_abbr'],\n",
    "            'population': zip_data['population']\n",
    "        }])\n",
    "        \n",
    "        processed = preprocessor.transform(input_data)\n",
    "        rate = model.predict(processed)[0]\n",
    "        \n",
    "        print(f\"ZIP {zip_code} crime rate: {rate:.2f} per 1000\")\n",
    "        return rate\n",
    "        \n",
    "    except IndexError:\n",
    "        print(f\"ZIP {zip_code} not found in database.\")\n",
    "        return None\n",
    "    except Exception as e:\n",
    "        print(f\"Error: {str(e)}\")\n",
    "        return None\n",
    "\n",
    "# Test prediction\n",
    "predict_crime_rate(75105)"
   ]
  },
  {
   "cell_type": "code",
   "execution_count": null,
   "id": "1d40cf63-135e-46d2-8f5b-133a4e7a8fb5",
   "metadata": {},
   "outputs": [],
   "source": []
  }
 ],
 "metadata": {
  "kernelspec": {
   "display_name": "Python 3 (ipykernel)",
   "language": "python",
   "name": "python3"
  },
  "language_info": {
   "codemirror_mode": {
    "name": "ipython",
    "version": 3
   },
   "file_extension": ".py",
   "mimetype": "text/x-python",
   "name": "python",
   "nbconvert_exporter": "python",
   "pygments_lexer": "ipython3",
   "version": "3.11.8"
  }
 },
 "nbformat": 4,
 "nbformat_minor": 5
}
